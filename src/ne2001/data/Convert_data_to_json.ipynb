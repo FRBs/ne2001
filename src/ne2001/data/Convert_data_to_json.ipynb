{
 "cells": [
  {
   "cell_type": "markdown",
   "metadata": {},
   "source": [
    "# Ingest FORTRAN input files and write as JSON"
   ]
  },
  {
   "cell_type": "code",
   "execution_count": 23,
   "metadata": {
    "collapsed": true
   },
   "outputs": [],
   "source": [
    "# imports\n",
    "import json\n",
    "import pdb\n",
    "from astropy.table import Table\n",
    "\n",
    "from linetools import utils as ltu"
   ]
  },
  {
   "cell_type": "markdown",
   "metadata": {},
   "source": [
    "## Model flags"
   ]
  },
  {
   "cell_type": "code",
   "execution_count": 2,
   "metadata": {
    "collapsed": true
   },
   "outputs": [],
   "source": [
    "modelkeys = ['wg1', 'wg2', 'wga', 'wggc', 'wglism', 'wgcN', 'wgvN']"
   ]
  },
  {
   "cell_type": "code",
   "execution_count": 3,
   "metadata": {
    "collapsed": true
   },
   "outputs": [],
   "source": [
    "model_dict = {}\n",
    "for key in modelkeys:\n",
    "    model_dict[key] = 1"
   ]
  },
  {
   "cell_type": "code",
   "execution_count": 6,
   "metadata": {
    "collapsed": true
   },
   "outputs": [],
   "source": [
    "jdict = ltu.jsonify(model_dict)\n",
    "ltu.savejson('model.json',jdict,easy_to_read=True)"
   ]
  },
  {
   "cell_type": "markdown",
   "metadata": {},
   "source": [
    "## Galaxy Parameters\n",
    "\n"
   ]
  },
  {
   "cell_type": "code",
   "execution_count": 8,
   "metadata": {
    "collapsed": true
   },
   "outputs": [],
   "source": [
    "galparm = Table.read('gal01.inp',format='ascii')"
   ]
  },
  {
   "cell_type": "code",
   "execution_count": 10,
   "metadata": {
    "collapsed": false
   },
   "outputs": [
    {
     "data": {
      "text/html": [
       "&lt;Table length=3&gt;\n",
       "<table id=\"table4550007952\" class=\"table-striped table-bordered table-condensed\">\n",
       "<thead><tr><th>key</th><th>value</th></tr></thead>\n",
       "<thead><tr><th>str6</th><th>float64</th></tr></thead>\n",
       "<tr><td>n1h1:</td><td>0.033</td></tr>\n",
       "<tr><td>h1:</td><td>0.97</td></tr>\n",
       "<tr><td>A1:</td><td>17.5</td></tr>\n",
       "</table>"
      ],
      "text/plain": [
       "<Table length=3>\n",
       " key   value \n",
       " str6 float64\n",
       "----- -------\n",
       "n1h1:   0.033\n",
       "  h1:    0.97\n",
       "  A1:    17.5"
      ]
     },
     "execution_count": 10,
     "metadata": {},
     "output_type": "execute_result"
    }
   ],
   "source": [
    "galparm[0:3]"
   ]
  },
  {
   "cell_type": "code",
   "execution_count": 12,
   "metadata": {
    "collapsed": true
   },
   "outputs": [],
   "source": [
    "gal_dict = {}\n",
    "for row in galparm:\n",
    "    gal_dict[row['key'][:-1]] = row['value']"
   ]
  },
  {
   "cell_type": "markdown",
   "metadata": {},
   "source": [
    "### Add RSun"
   ]
  },
  {
   "cell_type": "code",
   "execution_count": 14,
   "metadata": {
    "collapsed": true
   },
   "outputs": [],
   "source": [
    "gal_dict['rsun'] = 8.5"
   ]
  },
  {
   "cell_type": "code",
   "execution_count": 16,
   "metadata": {
    "collapsed": false
   },
   "outputs": [],
   "source": [
    "jdict = ltu.jsonify(gal_dict)\n",
    "ltu.savejson('gal_param.json',jdict,easy_to_read=True,overwrite=True)"
   ]
  },
  {
   "cell_type": "markdown",
   "metadata": {},
   "source": [
    "## Galactic Center"
   ]
  },
  {
   "cell_type": "code",
   "execution_count": 5,
   "metadata": {
    "collapsed": true
   },
   "outputs": [],
   "source": [
    "gc_dict = {}\n",
    "gc_dict['filename' ] = 'ne_gc.inp'\n",
    "gc_dict['centroid'] = dict(xgc=-0.01, ygc=0., zgc=-0.02)\n",
    "#-0.01, 0., -0.020\txgc, ygc, zgc = centroid\n",
    "gc_dict['rgc'] = 0.145\n",
    "#0.145\t\t\trgc\n",
    "gc_dict['hgc'] = 0.026\n",
    "#0.026\t\t\thgc\n",
    "gc_dict['negc0'] = 10.\n",
    "gc_dict['Fgc0'] = 0.6e5\n",
    "#10.0\t\t\tnegc0  \n",
    "#0.6e5\t\t\tFgc0   "
   ]
  },
  {
   "cell_type": "code",
   "execution_count": null,
   "metadata": {
    "collapsed": true
   },
   "outputs": [],
   "source": [
    "jdict = ltu.jsonify(gc_dict)\n",
    "ltu.savejson('ne_gc.json',jdict,easy_to_read=True)"
   ]
  },
  {
   "cell_type": "code",
   "execution_count": 18,
   "metadata": {
    "collapsed": false
   },
   "outputs": [
    {
     "data": {
      "text/plain": [
       "-1.0"
      ]
     },
     "execution_count": 18,
     "metadata": {},
     "output_type": "execute_result"
    }
   ],
   "source": [
    "np.cos(np.pi)"
   ]
  },
  {
   "cell_type": "markdown",
   "metadata": {},
   "source": [
    "## LISM"
   ]
  },
  {
   "cell_type": "code",
   "execution_count": 38,
   "metadata": {
    "collapsed": true
   },
   "outputs": [],
   "source": [
    "# Note that I capitalized the I in dFlpI\n",
    "with open('nelism.inp', 'r') as f:\n",
    "    lines = f.readlines()"
   ]
  },
  {
   "cell_type": "code",
   "execution_count": 39,
   "metadata": {
    "collapsed": false
   },
   "outputs": [
    {
     "data": {
      "text/plain": [
       "'#parameters for local ism routine, neLISM3.f'"
      ]
     },
     "execution_count": 39,
     "metadata": {},
     "output_type": "execute_result"
    }
   ],
   "source": [
    "lines[0].strip()"
   ]
  },
  {
   "cell_type": "code",
   "execution_count": 40,
   "metadata": {
    "collapsed": false
   },
   "outputs": [],
   "source": [
    "lism_dict = {}\n",
    "for iline in lines:\n",
    "    if iline[0] == '#':\n",
    "        continue\n",
    "    values, ckeys = iline.strip().split('|')\n",
    "    keys = ckeys.strip().split(',')\n",
    "    for jj,ivalue in enumerate(values.strip().split(' ')):\n",
    "        try:\n",
    "            lism_dict[keys[jj].strip()] = float(ivalue.strip())\n",
    "        except ValueError:\n",
    "            pdb.set_trace()"
   ]
  },
  {
   "cell_type": "code",
   "execution_count": 41,
   "metadata": {
    "collapsed": false
   },
   "outputs": [],
   "source": [
    "jdict = ltu.jsonify(lism_dict)\n",
    "ltu.savejson('ne_lism.json',jdict,easy_to_read=True, overwrite=True)"
   ]
  },
  {
   "cell_type": "code",
   "execution_count": 32,
   "metadata": {
    "collapsed": false
   },
   "outputs": [
    {
     "data": {
      "text/plain": [
       "-0.045"
      ]
     },
     "execution_count": 32,
     "metadata": {},
     "output_type": "execute_result"
    }
   ],
   "source": []
  },
  {
   "cell_type": "code",
   "execution_count": null,
   "metadata": {
    "collapsed": true
   },
   "outputs": [],
   "source": []
  }
 ],
 "metadata": {
  "kernelspec": {
   "display_name": "Python 2",
   "language": "python",
   "name": "python2"
  },
  "language_info": {
   "codemirror_mode": {
    "name": "ipython",
    "version": 2
   },
   "file_extension": ".py",
   "mimetype": "text/x-python",
   "name": "python",
   "nbconvert_exporter": "python",
   "pygments_lexer": "ipython2",
   "version": "2.7.11"
  }
 },
 "nbformat": 4,
 "nbformat_minor": 0
}
